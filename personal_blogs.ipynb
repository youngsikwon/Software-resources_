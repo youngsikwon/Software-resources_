{
  "nbformat": 4,
  "nbformat_minor": 0,
  "metadata": {
    "colab": {
      "name": "personal_blogs.ipynb",
      "provenance": [],
      "authorship_tag": "ABX9TyMtw3NluvOOuM1G5gWfS2Z7"
    },
    "kernelspec": {
      "name": "python3",
      "display_name": "Python 3"
    }
  },
  "cells": [
    {
      "cell_type": "markdown",
      "metadata": {
        "id": "iIMk39wwkq3T",
        "colab_type": "text"
      },
      "source": [
        "## 국내, 국외 개발 블로그 모음"
      ]
    },
    {
      "cell_type": "markdown",
      "metadata": {
        "id": "CZzVEtJrk1MF",
        "colab_type": "text"
      },
      "source": [
        "#### 태그 리스트\n",
        "\n",
        "#Python, #자료구조, #알고리즘, #머신러닝, #임베디드, #빅데이터, #DB, #IDE, #Java, #AWS, #PHP, #수학, #Node.js, #Kaggle, #Tensorflow, #HTML, #CSS, #Javascript, #jQuery, #ECMAScript, #TypeScript, #React, #MongoDB"
      ]
    },
    {
      "cell_type": "markdown",
      "metadata": {
        "id": "0vMzYclGk2gr",
        "colab_type": "text"
      },
      "source": [
        "### 개인블로그\n",
        "\n",
        "| 링크                                            | 분야 태그                                                    |\n",
        "| :---------------------------------------------- | :----------------------------------------------------------- |\n",
        "| https://ledgku.tistory.com/                     | #Python, #자료구조, #알고리즘, #수학, #머신러닝, #빅데이터, #임베디드 |\n",
        "| https://118k.tistory.com/category               | #Java, #Python, #빅데이터, #IDE, #DB, #AWS, #알고리즘        |\n",
        "| https://paiai.tistory.com/category              | #Python, #Java, #빅데이터, #알고리즘, #PHP,  #DB, #머신러닝, #IDE, #AWS,  #Node.js, #Kaggle, #Tensorflow |\n",
        "| https://www.zerocho.com/                        | #DB, #HTML, #CSS, #Javascript, #jQuery, #ECMAScript, #TypeScript, #React, #알고리즘, #git, #MongoDB |\n",
        "| https://tech.ssut.me/                           |                                                              |\n",
        "| https://bcho.tistory.com/                       |                                                              |\n",
        "| https://jojoldu.tistory.com/                    |                                                              |\n",
        "| http://kwon37xi.egloos.com/                     |                                                              |\n",
        "| https://metalkin.tistory.com/                   |                                                              |\n",
        "| https://nsh83.tistory.com/                      |                                                              |\n",
        "| https://bob-full.tistory.com/                   |                                                              |\n",
        "| https://kdevkr.github.io/                       |                                                              |\n",
        "| https://charsyam.wordpress.com/                 |                                                              |\n",
        "| https://brunch.co.kr/@dongkang#articles         |                                                              |\n",
        "| https://blog.leop0ld.org/                       |                                                              |\n",
        "| http://kangmyounghun.blogspot.com/              |                                                              |\n",
        "| http://minieetea.com/                           |                                                              |\n",
        "| https://01010011.blog/                          |                                                              |\n",
        "| https://thinkinginruby.wordpress.com/           |                                                              |\n",
        "| https://brunch.co.kr/@sangjinkang#articles      |                                                              |\n",
        "| https://medium.com/@dan_kim                     |                                                              |\n",
        "| https://medium.com/@hkc7180                     |                                                              |\n",
        "| https://medium.com/@sryu99                      |                                                              |\n",
        "| https://medium.com/@kanglpmg                    |                                                              |\n",
        "| https://medium.com/@brillante9111               |                                                              |\n",
        "| https://ujuc.github.io/                         |                                                              |\n",
        "| http://mearie.org/                              |                                                              |\n",
        "| https://medium.com/@devholic                    |                                                              |\n",
        "| https://medium.com/@shaynekang                  |                                                              |\n",
        "| https://brunch.co.kr/@yhkang0513#articles       |                                                              |\n",
        "| https://kdinner.tistory.com/                    |                                                              |\n",
        "| https://newstars77.blog.me/                     |                                                              |\n",
        "| https://brunch.co.kr/@alden                     |                                                              |\n",
        "| http://daddynkidsmakers.blogspot.com/           |                                                              |\n",
        "| https://taylor-kang.github.io/                  |                                                              |\n",
        "| https://ivorycirrus.github.io/                  |                                                              |\n",
        "| https://brunch.co.kr/@cloud09#articles          |                                                              |\n",
        "| https://flowvalue.tistory.com/                  |                                                              |\n",
        "| https://hskang9.github.io/                      |                                                              |\n",
        "| https://wckhg89.github.io/                      |                                                              |\n",
        "| http://firejune.com/                            |                                                              |\n",
        "| https://jusung.github.io/                       |                                                              |\n",
        "| https://armadillo-dev.github.io/                |                                                              |\n",
        "| https://blog.naver.com/nackji80                 |                                                              |\n",
        "| https://ifyoudontknow-youcandothis.tistory.com/ |                                                              |\n",
        "| https://velog.io/@rjs1197                       |                                                              |\n",
        "| https://appear.github.io/                       |                                                              |\n",
        "| https://koyo.kr/                                |                                                              |\n",
        "| https://hhko.tistory.com/                       |                                                              |"
      ]
    },
    {
      "cell_type": "markdown",
      "metadata": {
        "id": "ByjWrruNk6vq",
        "colab_type": "text"
      },
      "source": [
        "### 해외(+영어)블로그\n",
        "\n",
        "| 링크                      | 분야 태그 |\n",
        "| :------------------------ | :-------- |\n",
        "| https://devkimchi.com/    |           |\n",
        "| https://blog.kevinlee.io/ |           |"
      ]
    }
  ]
}